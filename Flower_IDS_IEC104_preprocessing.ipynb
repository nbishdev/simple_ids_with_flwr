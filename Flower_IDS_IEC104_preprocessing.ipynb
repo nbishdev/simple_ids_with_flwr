{
 "cells": [
  {
   "cell_type": "markdown",
   "id": "e7edf6ba-bfe6-412b-81b1-dcec09ac476b",
   "metadata": {
    "tags": []
   },
   "source": [
    "# Federated Learning with Flower"
   ]
  },
  {
   "cell_type": "markdown",
   "id": "334a661f-5693-404c-a603-c3e218a9dd59",
   "metadata": {},
   "source": [
    "#### This notebook presents a simple Federated Learning example / application on developing a Machine Learning model as an Intrusion Detection System for defending against Cyberattacks using distributed and private data.\n",
    "#### This example uses Docker containers as independent workers / clients for performing the client model training on the limited and private local client data.\n",
    "#### This example was developed as part of the research conducted at MetaMind Innovations in the framework of the [AI4CYBER](http://metamind.gr/portfolio-items/ai4cyber-horizon-europe/) project."
   ]
  },
  {
   "cell_type": "markdown",
   "id": "bb6741b6-b6bd-43e4-8423-55e2d217c118",
   "metadata": {
    "id": "_zFenI3IPpgI",
    "tags": []
   },
   "source": [
    "## Set Up Flower Environment"
   ]
  },
  {
   "cell_type": "code",
   "execution_count": 1,
   "id": "bcfa455c-9791-4d72-babb-251425e8e57a",
   "metadata": {
    "id": "ke7EyuvG0Zyn"
   },
   "outputs": [],
   "source": [
    "#@test {\"skip\": true}\n",
    "!pip install --quiet --upgrade flwr==1.0.0\n",
    "!pip install --quiet --upgrade tensorflow-cpu==2.9.2\n",
    "!pip install --quiet --upgrade pandas\n",
    "!pip install --quiet --upgrade matplotlib"
   ]
  },
  {
   "cell_type": "code",
   "execution_count": 2,
   "id": "40774afa-2771-4e24-b782-e9f4e3037370",
   "metadata": {},
   "outputs": [
    {
     "name": "stderr",
     "output_type": "stream",
     "text": [
      "2022-11-24 17:07:43.658289: I tensorflow/core/util/util.cc:169] oneDNN custom operations are on. You may see slightly different numerical results due to floating-point round-off errors from different computation orders. To turn them off, set the environment variable `TF_ENABLE_ONEDNN_OPTS=0`.\n"
     ]
    }
   ],
   "source": [
    "import collections\n",
    "import os\n",
    "import pandas as pd\n",
    "import tensorflow as tf\n",
    "\n",
    "from matplotlib import pyplot as plt\n",
    "\n",
    "%matplotlib inline"
   ]
  },
  {
   "cell_type": "markdown",
   "id": "2b2a72ab-d529-4077-80ed-9e719b70c2f0",
   "metadata": {},
   "source": [
    "## Dataset"
   ]
  },
  {
   "cell_type": "markdown",
   "id": "3edb0310-f315-4720-9f77-2d01660d5693",
   "metadata": {},
   "source": [
    "This dataset is part of the [IEC 60870-5-104 Intrusion Detection Dataset](http://zenodo.org/record/7108614#.YzGaDtJBwUE) -- DOI: [10.1109/TII.2021.3093905](http://doi.org/10.1109/TII.2021.3093905) -- published by [ITHACA – University of Western Macedonia](http://ithaca.ece.uowm.gr/)."
   ]
  },
  {
   "cell_type": "markdown",
   "id": "c46c758d-fccf-4249-8b2a-f0caa696ad4e",
   "metadata": {},
   "source": [
    "We input the dataset path and choose which dataset to facilitate for the experimentation.\n",
    "\n",
    "For this example we use the CICFlowMeter dataset with capturing timeout at 180 seconds with 2 distinct workers."
   ]
  },
  {
   "cell_type": "code",
   "execution_count": 3,
   "id": "dec5093d-7510-4fba-b10b-26c82307be00",
   "metadata": {},
   "outputs": [],
   "source": [
    "path = '~/workspace/datasets/Balanced_IEC104_Train_Test_CSV_Files/iec104_train_test_csvs'\n",
    "tp = 'cic'      # Type: choose between 'cic' and 'custom'\n",
    "tm = 180        # Timeout: choose one value from the following list [15, 30, 60, 90, 120, 180]"
   ]
  },
  {
   "cell_type": "markdown",
   "id": "e0467bfd-f129-464e-ba22-becea8c0993a",
   "metadata": {},
   "source": [
    "Perform some value checks"
   ]
  },
  {
   "cell_type": "code",
   "execution_count": 4,
   "id": "5e8ea52b-b893-4251-af46-abef27045ac3",
   "metadata": {},
   "outputs": [],
   "source": [
    "assert tp in ('cic', 'custom'), \"Wrong dataset type\"\n",
    "assert tm in (15, 30, 60, 90, 120, 180), \"Wrong time\""
   ]
  },
  {
   "cell_type": "code",
   "execution_count": 5,
   "id": "050ffcfa-e371-411a-9172-dde2fb2315c5",
   "metadata": {},
   "outputs": [],
   "source": [
    "dataset = f'tests_{tp}_{tm}'\n",
    "\n",
    "if 'cic' in dataset:\n",
    "    n = dataset.split('_')[-1]\n",
    "    train_csv = os.path.join(os.path.join(path, dataset), f'train_{tm}_cicflow.csv')\n",
    "    test_csv = os.path.join(os.path.join(path, dataset), f'test_{tm}_cicflow.csv')\n",
    "elif 'custom' in dataset:\n",
    "    n = dataset.split('_')\n",
    "    train_csv = os.path.join(os.path.join(path, dataset), f'train_{tm}_custom_script.csv')\n",
    "    test_csv = os.path.join(os.path.join(path, dataset), f'test_{tm}_custom_script.csv')\n",
    "else:\n",
    "    raise Exception(\"Wrong dataset\")\n",
    "\n",
    "df_train = pd.read_csv(train_csv)\n",
    "df_test = pd.read_csv(train_csv)"
   ]
  },
  {
   "cell_type": "markdown",
   "id": "1ef57df7-92d2-4cab-a454-e1e04611cb03",
   "metadata": {},
   "source": [
    "Let's perform some data exploration."
   ]
  },
  {
   "cell_type": "code",
   "execution_count": 6,
   "id": "81e75170-eab6-4735-8174-73223fe9d5f1",
   "metadata": {},
   "outputs": [
    {
     "data": {
      "text/plain": [
       "Flow ID       object\n",
       "Src IP        object\n",
       "Src Port       int64\n",
       "Dst IP        object\n",
       "Dst Port       int64\n",
       "              ...   \n",
       "Idle Mean    float64\n",
       "Idle Std     float64\n",
       "Idle Max       int64\n",
       "Idle Min       int64\n",
       "Label         object\n",
       "Length: 84, dtype: object"
      ]
     },
     "execution_count": 6,
     "metadata": {},
     "output_type": "execute_result"
    }
   ],
   "source": [
    "df_train.dtypes"
   ]
  },
  {
   "cell_type": "code",
   "execution_count": 7,
   "id": "b9c43470-8cb9-4276-86fd-fa87b7929c13",
   "metadata": {},
   "outputs": [
    {
     "data": {
      "text/plain": [
       "Flow ID       object\n",
       "Src IP        object\n",
       "Src Port       int64\n",
       "Dst IP        object\n",
       "Dst Port       int64\n",
       "              ...   \n",
       "Idle Mean    float64\n",
       "Idle Std     float64\n",
       "Idle Max       int64\n",
       "Idle Min       int64\n",
       "Label         object\n",
       "Length: 84, dtype: object"
      ]
     },
     "execution_count": 7,
     "metadata": {},
     "output_type": "execute_result"
    }
   ],
   "source": [
    "df_test.dtypes"
   ]
  },
  {
   "cell_type": "code",
   "execution_count": 8,
   "id": "61a1113d-69b5-43ab-986f-e954ab8db2d8",
   "metadata": {},
   "outputs": [
    {
     "name": "stdout",
     "output_type": "stream",
     "text": [
      "<class 'pandas.core.frame.DataFrame'>\n",
      "RangeIndex: 3588 entries, 0 to 3587\n",
      "Data columns (total 84 columns):\n",
      " #   Column             Non-Null Count  Dtype  \n",
      "---  ------             --------------  -----  \n",
      " 0   Flow ID            3588 non-null   object \n",
      " 1   Src IP             3588 non-null   object \n",
      " 2   Src Port           3588 non-null   int64  \n",
      " 3   Dst IP             3588 non-null   object \n",
      " 4   Dst Port           3588 non-null   int64  \n",
      " 5   Protocol           3588 non-null   int64  \n",
      " 6   Timestamp          3588 non-null   object \n",
      " 7   Flow Duration      3588 non-null   int64  \n",
      " 8   Tot Fwd Pkts       3588 non-null   int64  \n",
      " 9   Tot Bwd Pkts       3588 non-null   int64  \n",
      " 10  TotLen Fwd Pkts    3588 non-null   int64  \n",
      " 11  TotLen Bwd Pkts    3588 non-null   int64  \n",
      " 12  Fwd Pkt Len Max    3588 non-null   int64  \n",
      " 13  Fwd Pkt Len Min    3588 non-null   int64  \n",
      " 14  Fwd Pkt Len Mean   3588 non-null   float64\n",
      " 15  Fwd Pkt Len Std    3588 non-null   float64\n",
      " 16  Bwd Pkt Len Max    3588 non-null   int64  \n",
      " 17  Bwd Pkt Len Min    3588 non-null   int64  \n",
      " 18  Bwd Pkt Len Mean   3588 non-null   float64\n",
      " 19  Bwd Pkt Len Std    3588 non-null   float64\n",
      " 20  Flow Byts/s        3588 non-null   float64\n",
      " 21  Flow Pkts/s        3588 non-null   float64\n",
      " 22  Flow IAT Mean      3588 non-null   float64\n",
      " 23  Flow IAT Std       3588 non-null   float64\n",
      " 24  Flow IAT Max       3588 non-null   int64  \n",
      " 25  Flow IAT Min       3588 non-null   int64  \n",
      " 26  Fwd IAT Tot        3588 non-null   int64  \n",
      " 27  Fwd IAT Mean       3588 non-null   float64\n",
      " 28  Fwd IAT Std        3588 non-null   float64\n",
      " 29  Fwd IAT Max        3588 non-null   int64  \n",
      " 30  Fwd IAT Min        3588 non-null   int64  \n",
      " 31  Bwd IAT Tot        3588 non-null   int64  \n",
      " 32  Bwd IAT Mean       3588 non-null   float64\n",
      " 33  Bwd IAT Std        3588 non-null   float64\n",
      " 34  Bwd IAT Max        3588 non-null   int64  \n",
      " 35  Bwd IAT Min        3588 non-null   int64  \n",
      " 36  Fwd PSH Flags      3588 non-null   int64  \n",
      " 37  Bwd PSH Flags      3588 non-null   int64  \n",
      " 38  Fwd URG Flags      3588 non-null   int64  \n",
      " 39  Bwd URG Flags      3588 non-null   int64  \n",
      " 40  Fwd Header Len     3588 non-null   int64  \n",
      " 41  Bwd Header Len     3588 non-null   int64  \n",
      " 42  Fwd Pkts/s         3588 non-null   float64\n",
      " 43  Bwd Pkts/s         3588 non-null   float64\n",
      " 44  Pkt Len Min        3588 non-null   int64  \n",
      " 45  Pkt Len Max        3588 non-null   int64  \n",
      " 46  Pkt Len Mean       3588 non-null   float64\n",
      " 47  Pkt Len Std        3588 non-null   float64\n",
      " 48  Pkt Len Var        3588 non-null   float64\n",
      " 49  FIN Flag Cnt       3588 non-null   int64  \n",
      " 50  SYN Flag Cnt       3588 non-null   int64  \n",
      " 51  RST Flag Cnt       3588 non-null   int64  \n",
      " 52  PSH Flag Cnt       3588 non-null   int64  \n",
      " 53  ACK Flag Cnt       3588 non-null   int64  \n",
      " 54  URG Flag Cnt       3588 non-null   int64  \n",
      " 55  CWE Flag Count     3588 non-null   int64  \n",
      " 56  ECE Flag Cnt       3588 non-null   int64  \n",
      " 57  Down/Up Ratio      3588 non-null   int64  \n",
      " 58  Pkt Size Avg       3588 non-null   float64\n",
      " 59  Fwd Seg Size Avg   3588 non-null   float64\n",
      " 60  Bwd Seg Size Avg   3588 non-null   float64\n",
      " 61  Fwd Byts/b Avg     3588 non-null   int64  \n",
      " 62  Fwd Pkts/b Avg     3588 non-null   int64  \n",
      " 63  Fwd Blk Rate Avg   3588 non-null   int64  \n",
      " 64  Bwd Byts/b Avg     3588 non-null   int64  \n",
      " 65  Bwd Pkts/b Avg     3588 non-null   int64  \n",
      " 66  Bwd Blk Rate Avg   3588 non-null   int64  \n",
      " 67  Subflow Fwd Pkts   3588 non-null   int64  \n",
      " 68  Subflow Fwd Byts   3588 non-null   int64  \n",
      " 69  Subflow Bwd Pkts   3588 non-null   int64  \n",
      " 70  Subflow Bwd Byts   3588 non-null   int64  \n",
      " 71  Init Fwd Win Byts  3588 non-null   int64  \n",
      " 72  Init Bwd Win Byts  3588 non-null   int64  \n",
      " 73  Fwd Act Data Pkts  3588 non-null   int64  \n",
      " 74  Fwd Seg Size Min   3588 non-null   int64  \n",
      " 75  Active Mean        3588 non-null   float64\n",
      " 76  Active Std         3588 non-null   float64\n",
      " 77  Active Max         3588 non-null   int64  \n",
      " 78  Active Min         3588 non-null   int64  \n",
      " 79  Idle Mean          3588 non-null   float64\n",
      " 80  Idle Std           3588 non-null   float64\n",
      " 81  Idle Max           3588 non-null   int64  \n",
      " 82  Idle Min           3588 non-null   int64  \n",
      " 83  Label              3588 non-null   object \n",
      "dtypes: float64(24), int64(55), object(5)\n",
      "memory usage: 2.3+ MB\n"
     ]
    }
   ],
   "source": [
    "df_train.info()"
   ]
  },
  {
   "cell_type": "code",
   "execution_count": 9,
   "id": "859962a0-9629-495f-946c-25f665f6a408",
   "metadata": {},
   "outputs": [
    {
     "name": "stdout",
     "output_type": "stream",
     "text": [
      "<class 'pandas.core.frame.DataFrame'>\n",
      "RangeIndex: 3588 entries, 0 to 3587\n",
      "Data columns (total 84 columns):\n",
      " #   Column             Non-Null Count  Dtype  \n",
      "---  ------             --------------  -----  \n",
      " 0   Flow ID            3588 non-null   object \n",
      " 1   Src IP             3588 non-null   object \n",
      " 2   Src Port           3588 non-null   int64  \n",
      " 3   Dst IP             3588 non-null   object \n",
      " 4   Dst Port           3588 non-null   int64  \n",
      " 5   Protocol           3588 non-null   int64  \n",
      " 6   Timestamp          3588 non-null   object \n",
      " 7   Flow Duration      3588 non-null   int64  \n",
      " 8   Tot Fwd Pkts       3588 non-null   int64  \n",
      " 9   Tot Bwd Pkts       3588 non-null   int64  \n",
      " 10  TotLen Fwd Pkts    3588 non-null   int64  \n",
      " 11  TotLen Bwd Pkts    3588 non-null   int64  \n",
      " 12  Fwd Pkt Len Max    3588 non-null   int64  \n",
      " 13  Fwd Pkt Len Min    3588 non-null   int64  \n",
      " 14  Fwd Pkt Len Mean   3588 non-null   float64\n",
      " 15  Fwd Pkt Len Std    3588 non-null   float64\n",
      " 16  Bwd Pkt Len Max    3588 non-null   int64  \n",
      " 17  Bwd Pkt Len Min    3588 non-null   int64  \n",
      " 18  Bwd Pkt Len Mean   3588 non-null   float64\n",
      " 19  Bwd Pkt Len Std    3588 non-null   float64\n",
      " 20  Flow Byts/s        3588 non-null   float64\n",
      " 21  Flow Pkts/s        3588 non-null   float64\n",
      " 22  Flow IAT Mean      3588 non-null   float64\n",
      " 23  Flow IAT Std       3588 non-null   float64\n",
      " 24  Flow IAT Max       3588 non-null   int64  \n",
      " 25  Flow IAT Min       3588 non-null   int64  \n",
      " 26  Fwd IAT Tot        3588 non-null   int64  \n",
      " 27  Fwd IAT Mean       3588 non-null   float64\n",
      " 28  Fwd IAT Std        3588 non-null   float64\n",
      " 29  Fwd IAT Max        3588 non-null   int64  \n",
      " 30  Fwd IAT Min        3588 non-null   int64  \n",
      " 31  Bwd IAT Tot        3588 non-null   int64  \n",
      " 32  Bwd IAT Mean       3588 non-null   float64\n",
      " 33  Bwd IAT Std        3588 non-null   float64\n",
      " 34  Bwd IAT Max        3588 non-null   int64  \n",
      " 35  Bwd IAT Min        3588 non-null   int64  \n",
      " 36  Fwd PSH Flags      3588 non-null   int64  \n",
      " 37  Bwd PSH Flags      3588 non-null   int64  \n",
      " 38  Fwd URG Flags      3588 non-null   int64  \n",
      " 39  Bwd URG Flags      3588 non-null   int64  \n",
      " 40  Fwd Header Len     3588 non-null   int64  \n",
      " 41  Bwd Header Len     3588 non-null   int64  \n",
      " 42  Fwd Pkts/s         3588 non-null   float64\n",
      " 43  Bwd Pkts/s         3588 non-null   float64\n",
      " 44  Pkt Len Min        3588 non-null   int64  \n",
      " 45  Pkt Len Max        3588 non-null   int64  \n",
      " 46  Pkt Len Mean       3588 non-null   float64\n",
      " 47  Pkt Len Std        3588 non-null   float64\n",
      " 48  Pkt Len Var        3588 non-null   float64\n",
      " 49  FIN Flag Cnt       3588 non-null   int64  \n",
      " 50  SYN Flag Cnt       3588 non-null   int64  \n",
      " 51  RST Flag Cnt       3588 non-null   int64  \n",
      " 52  PSH Flag Cnt       3588 non-null   int64  \n",
      " 53  ACK Flag Cnt       3588 non-null   int64  \n",
      " 54  URG Flag Cnt       3588 non-null   int64  \n",
      " 55  CWE Flag Count     3588 non-null   int64  \n",
      " 56  ECE Flag Cnt       3588 non-null   int64  \n",
      " 57  Down/Up Ratio      3588 non-null   int64  \n",
      " 58  Pkt Size Avg       3588 non-null   float64\n",
      " 59  Fwd Seg Size Avg   3588 non-null   float64\n",
      " 60  Bwd Seg Size Avg   3588 non-null   float64\n",
      " 61  Fwd Byts/b Avg     3588 non-null   int64  \n",
      " 62  Fwd Pkts/b Avg     3588 non-null   int64  \n",
      " 63  Fwd Blk Rate Avg   3588 non-null   int64  \n",
      " 64  Bwd Byts/b Avg     3588 non-null   int64  \n",
      " 65  Bwd Pkts/b Avg     3588 non-null   int64  \n",
      " 66  Bwd Blk Rate Avg   3588 non-null   int64  \n",
      " 67  Subflow Fwd Pkts   3588 non-null   int64  \n",
      " 68  Subflow Fwd Byts   3588 non-null   int64  \n",
      " 69  Subflow Bwd Pkts   3588 non-null   int64  \n",
      " 70  Subflow Bwd Byts   3588 non-null   int64  \n",
      " 71  Init Fwd Win Byts  3588 non-null   int64  \n",
      " 72  Init Bwd Win Byts  3588 non-null   int64  \n",
      " 73  Fwd Act Data Pkts  3588 non-null   int64  \n",
      " 74  Fwd Seg Size Min   3588 non-null   int64  \n",
      " 75  Active Mean        3588 non-null   float64\n",
      " 76  Active Std         3588 non-null   float64\n",
      " 77  Active Max         3588 non-null   int64  \n",
      " 78  Active Min         3588 non-null   int64  \n",
      " 79  Idle Mean          3588 non-null   float64\n",
      " 80  Idle Std           3588 non-null   float64\n",
      " 81  Idle Max           3588 non-null   int64  \n",
      " 82  Idle Min           3588 non-null   int64  \n",
      " 83  Label              3588 non-null   object \n",
      "dtypes: float64(24), int64(55), object(5)\n",
      "memory usage: 2.3+ MB\n"
     ]
    }
   ],
   "source": [
    "df_test.info()"
   ]
  },
  {
   "cell_type": "markdown",
   "id": "fcc35f5f-dbc5-4c54-977e-cc1d33a40b4c",
   "metadata": {},
   "source": [
    "As a preprocessing step, we transorm the \"Label\" feature from string to categorical and then to numeric."
   ]
  },
  {
   "cell_type": "code",
   "execution_count": 10,
   "id": "a53d332f-4536-42fe-9a0d-4a91012f8232",
   "metadata": {},
   "outputs": [],
   "source": [
    "df_train['Label'] = df_train['Label'].str.lower()\n",
    "df_test['Label'] = df_test['Label'].str.lower()"
   ]
  },
  {
   "cell_type": "code",
   "execution_count": 11,
   "id": "0322a682-2baa-43f4-a00e-14505b1ae516",
   "metadata": {},
   "outputs": [],
   "source": [
    "unique_labels = list(df_train.Label.astype('category').unique())\n",
    "unique_codes = list(df_train.Label.astype('category').cat.codes.unique())\n",
    "mapping = {unique_codes[i] : unique_labels[i] for i in range(len(unique_labels))}"
   ]
  },
  {
   "cell_type": "code",
   "execution_count": 12,
   "id": "d6b294ca-d03a-4ca2-b405-446eb57263da",
   "metadata": {},
   "outputs": [
    {
     "data": {
      "text/plain": [
       "{11: 'normal',\n",
       " 0: 'c_ci_na_1',\n",
       " 1: 'c_ci_na_1_dos',\n",
       " 2: 'c_rd_na_1',\n",
       " 3: 'c_rd_na_1_dos',\n",
       " 4: 'c_rp_na_1',\n",
       " 5: 'c_rp_na_1_dos',\n",
       " 6: 'c_sc_na_1',\n",
       " 7: 'c_sc_na_1_dos',\n",
       " 8: 'c_se_na_1',\n",
       " 9: 'c_se_na_1_dos',\n",
       " 10: 'm_sp_na_1_dos'}"
      ]
     },
     "execution_count": 12,
     "metadata": {},
     "output_type": "execute_result"
    }
   ],
   "source": [
    "mapping"
   ]
  },
  {
   "cell_type": "code",
   "execution_count": 13,
   "id": "6742ef54-dfde-4163-a5a8-ce77ce96d0e9",
   "metadata": {},
   "outputs": [],
   "source": [
    "df_train['Label'] = df_train['Label'].replace(unique_labels, unique_codes)\n",
    "df_test['Label'] = df_test['Label'].replace(unique_labels, unique_codes)"
   ]
  },
  {
   "cell_type": "markdown",
   "id": "7edd853c-a1c3-404a-93d5-6a7a82dcb377",
   "metadata": {},
   "source": [
    "Now, we remove the features which do not assist with training a ML model."
   ]
  },
  {
   "cell_type": "code",
   "execution_count": 14,
   "id": "e5d205a4-c27c-418f-9a72-1f7ab10fac57",
   "metadata": {},
   "outputs": [],
   "source": [
    "if tp == 'cic':\n",
    "    train = df_train.drop(columns=['Flow ID', 'Src IP', 'Src Port', 'Dst IP', 'Dst Port', 'Protocol', 'Timestamp'])\n",
    "    test = df_test.drop(columns=['Flow ID', 'Src IP', 'Src Port', 'Dst IP', 'Dst Port', 'Protocol', 'Timestamp'])\n",
    "else:\n",
    "    train = df_train\n",
    "    test = df_test"
   ]
  },
  {
   "cell_type": "markdown",
   "id": "21e7b4f4-891e-452f-ac11-6ca09d1b3a79",
   "metadata": {},
   "source": [
    "We rename the \"Label\" column to \"y\"."
   ]
  },
  {
   "cell_type": "code",
   "execution_count": 15,
   "id": "0c909bee-4500-4753-90dc-80c37695c0f5",
   "metadata": {},
   "outputs": [],
   "source": [
    "train.rename(columns={\"Label\": \"y\"}, inplace=True, errors=\"raise\")\n",
    "test.rename(columns={\"Label\": \"y\"}, inplace=True, errors=\"raise\")\n",
    "test.to_csv('test_data.csv')"
   ]
  },
  {
   "cell_type": "markdown",
   "id": "695bb658-206d-4cbd-954a-edb49b44d11b",
   "metadata": {},
   "source": [
    "We use $N=2$ individual workers.\n",
    "\n",
    "Each worker will be assigned a subset of the dataset with $\\lfloor {M \\over N} \\rfloor$ data points."
   ]
  },
  {
   "cell_type": "code",
   "execution_count": 16,
   "id": "cff97f6f-42ba-4525-9157-4693c6f3663f",
   "metadata": {},
   "outputs": [],
   "source": [
    "n_workers = 2\n",
    "n_samples = int(df_train.shape[0] / n_workers)\n",
    "\n",
    "assert n_workers == 2, \"Exactly 2 workers (docker containers) are required\"\n",
    "assert n_samples > 0, \"Each worker must be assigned at least one data point\""
   ]
  },
  {
   "cell_type": "markdown",
   "id": "35dc41bd-07c1-4176-86c6-1737061ef93e",
   "metadata": {},
   "source": [
    "Each worker's training data is stored as a seperate CSV file with the proper naming and data format schemes."
   ]
  },
  {
   "cell_type": "code",
   "execution_count": 17,
   "id": "f7ff7dcb-9ae2-4c44-9458-efc3616d2cde",
   "metadata": {},
   "outputs": [],
   "source": [
    "client_data = []\n",
    "\n",
    "for i in range(n_workers-1):\n",
    "    sample = train.sample(n=n_samples)\n",
    "    sample.to_csv(f'client_data_{i}.csv')\n",
    "    df_train.drop(index=sample.index, inplace=True)\n",
    "    client_data.append(sample)\n",
    "\n",
    "sample = train.sample(n=n_samples)\n",
    "sample.to_csv(f'client_data_{i+1}.csv')\n",
    "client_data.append(sample)"
   ]
  },
  {
   "cell_type": "code",
   "execution_count": 18,
   "id": "c3346012-6bf9-4879-80b9-f46f890dfb72",
   "metadata": {},
   "outputs": [
    {
     "name": "stdout",
     "output_type": "stream",
     "text": [
      "Worker 1 training data contains 1794 points\n",
      "Worker 2 training data contains 1794 points\n"
     ]
    }
   ],
   "source": [
    "for i in range(n_workers):\n",
    "    print(f\"Worker {i+1} training data contains {len(client_data[i])} points\")"
   ]
  },
  {
   "cell_type": "markdown",
   "id": "24226028-58fd-4da0-a83b-571e779910fa",
   "metadata": {},
   "source": [
    "Let's perform some statistical analysis on the difference in the number of samples for each digit in each client dataset."
   ]
  },
  {
   "cell_type": "code",
   "execution_count": 19,
   "id": "726964a7-87c4-4001-ac17-2fcaa73dfe3c",
   "metadata": {},
   "outputs": [
    {
     "data": {
      "image/png": "[encoded data removed]",
      "text/plain": [
       "<Figure size 2000x700 with 2 Axes>"
      ]
     },
     "metadata": {},
     "output_type": "display_data"
    }
   ],
   "source": [
    "# Number of examples per layer for a sample of clients\n",
    "fig = plt.figure(figsize=(20, 7))\n",
    "fig.suptitle('Label Counts for a Sample of Worker Data')\n",
    "fig.tight_layout()\n",
    "\n",
    "for i in range(n_workers):\n",
    "    m = 0\n",
    "    plot_data = collections.defaultdict(list)\n",
    "    sample = client_data[i]\n",
    "    for label in sample['y']:\n",
    "        # Append counts individually per label to make plots\n",
    "        # more colorful instead of one color per plot.\n",
    "        plot_data[label].append(label)\n",
    "        m = max(m, len(plot_data[label]))\n",
    "    \n",
    "    n_cols = n_workers if n_workers < 5 else 5\n",
    "    xlim = [0, m+(20-m%20)]\n",
    "    ylim = [min(unique_codes)-1, max(unique_codes)+1]\n",
    "    yticks = list(range(min(unique_codes), max(unique_codes)+1))\n",
    "    yticks_labels = [mapping[k] for k in range(0, max(unique_codes)+1)]\n",
    "    \n",
    "    plt.subplot(int(n_workers / 5)+1, n_cols, i+1)\n",
    "    plt.subplots_adjust(wspace=0.3)\n",
    "    plt.title('Worker {}'.format(i+1))\n",
    "    plt.xlabel('#points')\n",
    "    plt.xlim(xlim)\n",
    "    plt.ylabel('Label')\n",
    "    plt.ylim(ylim)\n",
    "    plt.yticks(yticks, labels=yticks_labels)\n",
    "    \n",
    "    # plot values on top of bars\n",
    "    for key in plot_data:\n",
    "        if len(plot_data[key]) > 0:\n",
    "            plt.text(len(plot_data[key])+4, int(key)-0.1, str(len(plot_data[key])), ha='center')\n",
    "    \n",
    "    for j in range(min(unique_codes),max(unique_codes)+1):\n",
    "        plt.hist(\n",
    "            plot_data[j],\n",
    "            density=False,\n",
    "            bins=[k-0.5 for k in range(min(unique_codes),max(unique_codes)+2)],\n",
    "            orientation='horizontal'\n",
    "        )"
   ]
  }
 ],
 "metadata": {
  "kernelspec": {
   "display_name": "Python 3 (ipykernel)",
   "language": "python",
   "name": "python3"
  },
  "language_info": {
   "codemirror_mode": {
    "name": "ipython",
    "version": 3
   },
   "file_extension": ".py",
   "mimetype": "text/x-python",
   "name": "python",
   "nbconvert_exporter": "python",
   "pygments_lexer": "ipython3",
   "version": "3.9.13"
  }
 },
 "nbformat": 4,
 "nbformat_minor": 5
}
